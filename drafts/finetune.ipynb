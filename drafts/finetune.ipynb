{
 "cells": [
  {
   "cell_type": "markdown",
   "id": "89776a30",
   "metadata": {},
   "source": [
    "This is modified from https://colab.research.google.com/drive/1PEQyJO1-f6j0S_XJ8DV50NkpzasXkrzd?usp=sharing#scrollTo=ib_We3NLtj2E"
   ]
  },
  {
   "cell_type": "code",
   "execution_count": 2,
   "id": "f9861307-80b2-4d6a-95a5-ac1ed67bc394",
   "metadata": {},
   "outputs": [
    {
     "name": "stdout",
     "output_type": "stream",
     "text": [
      "Wed Apr  3 23:11:27 2024       \n",
      "+---------------------------------------------------------------------------------------+\n",
      "| NVIDIA-SMI 545.23.08              Driver Version: 545.23.08    CUDA Version: 12.3     |\n",
      "|-----------------------------------------+----------------------+----------------------+\n",
      "| GPU  Name                 Persistence-M | Bus-Id        Disp.A | Volatile Uncorr. ECC |\n",
      "| Fan  Temp   Perf          Pwr:Usage/Cap |         Memory-Usage | GPU-Util  Compute M. |\n",
      "|                                         |                      |               MIG M. |\n",
      "|=========================================+======================+======================|\n",
      "|   0  Tesla V100-SXM2-32GB           On  | 00000000:AF:00.0 Off |                    0 |\n",
      "| N/A   38C    P0              41W / 300W |      3MiB / 32768MiB |      0%      Default |\n",
      "|                                         |                      |                  N/A |\n",
      "+-----------------------------------------+----------------------+----------------------+\n",
      "                                                                                         \n",
      "+---------------------------------------------------------------------------------------+\n",
      "| Processes:                                                                            |\n",
      "|  GPU   GI   CI        PID   Type   Process name                            GPU Memory |\n",
      "|        ID   ID                                                             Usage      |\n",
      "|=======================================================================================|\n",
      "|  No running processes found                                                           |\n",
      "+---------------------------------------------------------------------------------------+\n"
     ]
    }
   ],
   "source": [
    "!nvidia-smi"
   ]
  },
  {
   "cell_type": "code",
   "execution_count": 8,
   "id": "ed2111cc-ea32-43d9-bb5d-3fe211101148",
   "metadata": {},
   "outputs": [],
   "source": [
    "import random"
   ]
  },
  {
   "cell_type": "code",
   "execution_count": 1,
   "id": "d740825d-9ca8-422a-94ab-44501e34e5e4",
   "metadata": {},
   "outputs": [],
   "source": [
    "import os\n",
    "import torch\n",
    "from datasets import load_dataset\n",
    "from transformers import (\n",
    "    AutoModelForCausalLM,\n",
    "    AutoTokenizer,\n",
    "    BitsAndBytesConfig,\n",
    "    HfArgumentParser,\n",
    "    TrainingArguments,\n",
    "    pipeline,\n",
    "    logging,\n",
    "    AutoConfig\n",
    ")\n",
    "from peft import LoraConfig, PeftModel\n",
    "from trl import SFTTrainer"
   ]
  },
  {
   "cell_type": "code",
   "execution_count": 2,
   "id": "fccc04f8-7e05-4ac6-9b66-4ca59a5b16ce",
   "metadata": {},
   "outputs": [],
   "source": [
    "config = AutoConfig.from_pretrained(\"/home/sds262_kg797/palmer_scratch/Llama-2-7b-chat-hf/config.json\") # Replace with your own path\n",
    "access_token = \"xxx\" # Replace with your own token\n",
    "\n",
    "# The model that you want to train from the Hugging Face hub\n",
    "model_name = \"meta-llama/Llama-2-7b-chat-hf\"\n",
    "\n",
    "# The instruction dataset to use\n",
    "dataset_name = \"b-mc2/sql-create-context\"\n",
    "\n",
    "# Fine-tuned model name\n",
    "new_model = \"llama-2-7b-sql\"\n",
    "\n",
    "################################################################################\n",
    "# QLoRA parameters\n",
    "################################################################################\n",
    "\n",
    "# LoRA attention dimension\n",
    "lora_r = 64\n",
    "\n",
    "# Alpha parameter for LoRA scaling\n",
    "lora_alpha = 16\n",
    "\n",
    "# Dropout probability for LoRA layers\n",
    "lora_dropout = 0.1\n",
    "\n",
    "################################################################################\n",
    "# bitsandbytes parameters\n",
    "################################################################################\n",
    "\n",
    "# Activate 4-bit precision base model loading\n",
    "use_4bit = True\n",
    "\n",
    "# Compute dtype for 4-bit base models\n",
    "bnb_4bit_compute_dtype = \"float16\"\n",
    "\n",
    "# Quantization type (fp4 or nf4)\n",
    "bnb_4bit_quant_type = \"nf4\"\n",
    "\n",
    "# Activate nested quantization for 4-bit base models (double quantization)\n",
    "use_nested_quant = False\n",
    "\n",
    "################################################################################\n",
    "# TrainingArguments parameters\n",
    "################################################################################\n",
    "\n",
    "# Output directory where the model predictions and checkpoints will be stored\n",
    "output_dir = \"./results\"\n",
    "\n",
    "# Number of training epochs\n",
    "num_train_epochs = 1\n",
    "\n",
    "# Enable fp16/bf16 training (set bf16 to True with an A100)\n",
    "fp16 = False\n",
    "bf16 = False\n",
    "\n",
    "# Batch size per GPU for training\n",
    "per_device_train_batch_size = 4\n",
    "\n",
    "# Batch size per GPU for evaluation\n",
    "per_device_eval_batch_size = 4\n",
    "\n",
    "# Number of update steps to accumulate the gradients for\n",
    "gradient_accumulation_steps = 1\n",
    "\n",
    "# Enable gradient checkpointing\n",
    "gradient_checkpointing = True\n",
    "\n",
    "# Maximum gradient normal (gradient clipping)\n",
    "max_grad_norm = 0.3\n",
    "\n",
    "# Initial learning rate (AdamW optimizer)\n",
    "learning_rate = 2e-4\n",
    "\n",
    "# Weight decay to apply to all layers except bias/LayerNorm weights\n",
    "weight_decay = 0.001\n",
    "\n",
    "# Optimizer to use\n",
    "optim = \"paged_adamw_32bit\"\n",
    "\n",
    "# Learning rate schedule\n",
    "lr_scheduler_type = \"cosine\"\n",
    "\n",
    "# Number of training steps (overrides num_train_epochs)\n",
    "max_steps = -1\n",
    "\n",
    "# Ratio of steps for a linear warmup (from 0 to learning rate)\n",
    "warmup_ratio = 0.03\n",
    "\n",
    "# Group sequences into batches with same length\n",
    "# Saves memory and speeds up training considerably\n",
    "group_by_length = True\n",
    "\n",
    "# Save checkpoint every X updates steps\n",
    "save_steps = 0\n",
    "\n",
    "# Log every X updates steps\n",
    "logging_steps = 25\n",
    "\n",
    "################################################################################\n",
    "# SFT parameters\n",
    "################################################################################\n",
    "\n",
    "# Maximum sequence length to use\n",
    "max_seq_length = None\n",
    "\n",
    "# Pack multiple short examples in the same input sequence to increase efficiency\n",
    "packing = False\n",
    "\n",
    "# Load the entire model on the GPU 0\n",
    "device_map = {\"\": 0}\n",
    "\n",
    "tokenizer = AutoTokenizer.from_pretrained(model_name, use_fast=True, token=access_token)"
   ]
  },
  {
   "cell_type": "code",
   "execution_count": 3,
   "id": "dbb96174-2c57-4761-a6e1-2e06156caec6",
   "metadata": {},
   "outputs": [
    {
     "data": {
      "text/plain": [
       "{'question': 'How many heads of the departments are older than 56 ?',\n",
       " 'answer': 'SELECT COUNT(*) FROM head WHERE age > 56',\n",
       " 'context': 'CREATE TABLE head (age INTEGER)'}"
      ]
     },
     "execution_count": 3,
     "metadata": {},
     "output_type": "execute_result"
    }
   ],
   "source": [
    "dataset = load_dataset(dataset_name, split=\"train[0:10]\")\n",
    "dataset[0]"
   ]
  },
  {
   "cell_type": "markdown",
   "id": "7e1a94ab-7ee5-4df6-a34f-4173b788df7c",
   "metadata": {},
   "source": [
    "The prompt template for Llama 2:\n",
    "```python\n",
    "<s>[INST] <<SYS>>\n",
    "{{ system_prompt }}\n",
    "<</SYS>>\n",
    "\n",
    "{{ user_message }} [/INST]\n",
    "```"
   ]
  },
  {
   "cell_type": "code",
   "execution_count": 7,
   "id": "029710f1-46be-4485-a9b9-63c128586762",
   "metadata": {},
   "outputs": [],
   "source": [
    "def format_sql(sample):\n",
    "    context = f\"<s>[INST] Here's the dataset overview: {sample['context']}.\" if len(sample['context']) > 0 else None\n",
    "    instruction = f\" Provide SQL that answer: {sample['question']}\"\n",
    "    reponse = f\" [/INST] {sample['answer']}\"\n",
    "    # join all parts together\n",
    "    prompt = \"\".join([i for i in [context, instruction, reponse] if i is not None])\n",
    "    return prompt\n",
    "\n",
    "def template_dataset(sample):\n",
    "    sample['text'] = f\"{format_sql(sample)}{tokenizer.eos_token}\"\n",
    "    return sample"
   ]
  },
  {
   "cell_type": "code",
   "execution_count": 13,
   "id": "69fdbdfa",
   "metadata": {},
   "outputs": [],
   "source": [
    "import random\n",
    "\n",
    "# Define multiple templates for formatting the sample\n",
    "def template_a(sample):\n",
    "    prefix = \"<s>[INST]\"\n",
    "    if sample['context']:\n",
    "        instruction = f\"With the given context '{sample['context']}', how would you write SQL to retrieve data: {sample['question']}\"\n",
    "    else:\n",
    "        instruction = f\"How would you write SQL to answer: {sample['question']}\"\n",
    "    sql_markdown = f\"```sql\\n{sample['answer']}\\n```\"\n",
    "    return f\"{prefix} {instruction} [/INST] \\n{sql_markdown}</s>\"\n",
    "\n",
    "def template_b(sample):\n",
    "    prefix = \"<s>[INST]\"\n",
    "    if sample['context']:\n",
    "        instruction = f\"How can the question '{sample['question']}' be answered using SQL, considering the context: '{sample['context']}'\"\n",
    "    else:\n",
    "        instruction = f\"How can the question '{sample['question']}' be answered using SQL\"\n",
    "    sql_markdown = f\"```sql\\n{sample['answer']}\\n```\"\n",
    "    return f\"{prefix} {instruction} [/INST] \\n{sql_markdown}\"\n",
    "\n",
    "def template_c(sample):\n",
    "    prefix = \"<s>[INST]\"\n",
    "    if sample['context']:\n",
    "        instruction = f\"Dataset overview: '{sample['context']}'. Please demonstrate how SQL can be used to address the question: '{sample['question']}'\"\n",
    "    else:\n",
    "        instruction = f\"Please demonstrate how SQL can be used to address the question: '{sample['question']}'.\"\n",
    "    sql_markdown = f\"```sql\\n{sample['answer']}\\n```\"\n",
    "    return f\"{prefix} {instruction} [/INST] \\n{sql_markdown}\"\n",
    "\n",
    "def template_d(sample):\n",
    "    prefix = \"<s>[INST]\"\n",
    "    if sample['context']:\n",
    "        instruction = f\"Let's collaborate on writing an SQL query to solve for '{sample['question']}' within this context: '{sample['context']}'. How should we approach it\"\n",
    "    else:\n",
    "        instruction = f\"Let's collaborate on writing an SQL query to solve for '{sample['question']}'. How should we approach it?\"\n",
    "    sql_markdown = f\"```sql\\n{sample['answer']}\\n```\"\n",
    "    return f\"{prefix} {instruction} [/INST] \\n{sql_markdown}\"\n",
    "\n",
    "def template_e(sample):\n",
    "    prefix = \"<s>[INST]\"\n",
    "    if sample['context']:\n",
    "        instruction = f\"As part of our data analysis with the background '{sample['context']}', could you formulate an SQL query to address the inquiry: '{sample['question']}'\"\n",
    "    else:\n",
    "        instruction = f\"Could you formulate an SQL query to address the inquiry: '{sample['question']}'\"\n",
    "    sql_markdown = f\"```sql\\n{sample['answer']}\\n```\"\n",
    "    return f\"{prefix} {instruction} [/INST] \\n{sql_markdown}\"\n",
    "\n",
    "def template_e(sample):\n",
    "    prefix = \"<s>[INST]\"\n",
    "    if sample['context']:\n",
    "        instruction = f\"You've been tasked with finding information related to :'{sample['question']}', under this context: '{sample['context']}'\"\n",
    "    else:\n",
    "        instruction = f\"You've been tasked with finding information related to :'{sample['question']}'\"\n",
    "    sql_markdown = f\"```sql\\n{sample['answer']}\\n```\"\n",
    "    return f\"{prefix} {instruction} [/INST] \\n{sql_markdown}\"\n",
    "\n",
    "\n",
    "# Function to randomly select a template and format the sample\n",
    "def format_sample_randomly(sample):\n",
    "    templates = [template_a, template_b, template_c, template_d, template_e]\n",
    "    chosen_template = random.choice(templates)\n",
    "    return chosen_template(sample)\n",
    "\n",
    "# Modified template_dataset function that uses the new random format function\n",
    "def template_dataset(sample, tokenizer):\n",
    "    sample['text'] = f\"{format_sample_randomly(sample)}\\n{tokenizer.eos_token}\"\n",
    "    return sample"
   ]
  },
  {
   "cell_type": "code",
   "execution_count": 14,
   "id": "52b04306-b25e-4ead-948a-13205d0ae922",
   "metadata": {},
   "outputs": [
    {
     "data": {
      "application/vnd.jupyter.widget-view+json": {
       "model_id": "2aa36f92042045a38c905d633af8aed7",
       "version_major": 2,
       "version_minor": 0
      },
      "text/plain": [
       "Map:   0%|          | 0/10 [00:00<?, ? examples/s]"
      ]
     },
     "metadata": {},
     "output_type": "display_data"
    },
    {
     "name": "stdout",
     "output_type": "stream",
     "text": [
      "<s>[INST] You've been tasked with finding information related to :'How many heads of the departments are older than 56 ?', under this context: 'CREATE TABLE head (age INTEGER)' [/INST] \n",
      "```sql\n",
      "SELECT COUNT(*) FROM head WHERE age > 56\n",
      "```\n",
      "</s>\n"
     ]
    }
   ],
   "source": [
    "dataset_llama = dataset.map(template_dataset, fn_kwargs={'tokenizer': tokenizer}, remove_columns=list(dataset.features))\n",
    "dataset_llama[0]['text']\n",
    "print(dataset_llama[0]['text'])"
   ]
  },
  {
   "cell_type": "code",
   "execution_count": 9,
   "id": "695836da-ba19-40c7-bcb8-eef0fd78f63c",
   "metadata": {},
   "outputs": [
    {
     "data": {
      "application/vnd.jupyter.widget-view+json": {
       "model_id": "91d59bc6c7e04ac592b2751dfd07fc98",
       "version_major": 2,
       "version_minor": 0
      },
      "text/plain": [
       "Loading checkpoint shards:   0%|          | 0/2 [00:00<?, ?it/s]"
      ]
     },
     "metadata": {},
     "output_type": "display_data"
    },
    {
     "name": "stderr",
     "output_type": "stream",
     "text": [
      "/home/sds262_kg797/.conda/envs/Llama/lib/python3.10/site-packages/trl/trainer/sft_trainer.py:245: UserWarning: You didn't pass a `max_seq_length` argument to the SFTTrainer, this will default to 1024\n",
      "  warnings.warn(\n"
     ]
    },
    {
     "data": {
      "application/vnd.jupyter.widget-view+json": {
       "model_id": "2ae456af6f8d4719a5b7983dee8771da",
       "version_major": 2,
       "version_minor": 0
      },
      "text/plain": [
       "Map:   0%|          | 0/10 [00:00<?, ? examples/s]"
      ]
     },
     "metadata": {},
     "output_type": "display_data"
    },
    {
     "name": "stderr",
     "output_type": "stream",
     "text": [
      "/home/sds262_kg797/.conda/envs/Llama/lib/python3.10/site-packages/accelerate/accelerator.py:432: FutureWarning: Passing the following arguments to `Accelerator` is deprecated and will be removed in version 1.0 of Accelerate: dict_keys(['dispatch_batches', 'split_batches', 'even_batches', 'use_seedable_sampler']). Please pass an `accelerate.DataLoaderConfiguration` instead: \n",
      "dataloader_config = DataLoaderConfiguration(dispatch_batches=None, split_batches=False, even_batches=True, use_seedable_sampler=True)\n",
      "  warnings.warn(\n",
      "Detected kernel version 4.18.0, which is below the recommended minimum of 5.5.0; this can cause the process to hang. It is recommended to upgrade the kernel to the minimum version or higher.\n"
     ]
    },
    {
     "data": {
      "text/html": [
       "\n",
       "    <div>\n",
       "      \n",
       "      <progress value='3' max='3' style='width:300px; height:20px; vertical-align: middle;'></progress>\n",
       "      [3/3 00:01, Epoch 1/1]\n",
       "    </div>\n",
       "    <table border=\"1\" class=\"dataframe\">\n",
       "  <thead>\n",
       " <tr style=\"text-align: left;\">\n",
       "      <th>Step</th>\n",
       "      <th>Training Loss</th>\n",
       "    </tr>\n",
       "  </thead>\n",
       "  <tbody>\n",
       "  </tbody>\n",
       "</table><p>"
      ],
      "text/plain": [
       "<IPython.core.display.HTML object>"
      ]
     },
     "metadata": {},
     "output_type": "display_data"
    },
    {
     "name": "stderr",
     "output_type": "stream",
     "text": [
      "/home/sds262_kg797/.conda/envs/Llama/lib/python3.10/site-packages/peft/utils/other.py:581: UserWarning: Unable to fetch remote file due to the following error 401 Client Error. (Request ID: Root=1-660e1bf7-5195b31d394ba4f41543c0b7;5d712a06-3b50-4646-a63c-11131b9b2bc5)\n",
      "\n",
      "Cannot access gated repo for url https://huggingface.co/meta-llama/Llama-2-7b-chat-hf/resolve/main/config.json.\n",
      "Repo model meta-llama/Llama-2-7b-chat-hf is gated. You must be authenticated to access it. - silently ignoring the lookup for the file config.json in meta-llama/Llama-2-7b-chat-hf.\n",
      "  warnings.warn(\n",
      "/home/sds262_kg797/.conda/envs/Llama/lib/python3.10/site-packages/peft/utils/save_and_load.py:154: UserWarning: Could not find a config file in meta-llama/Llama-2-7b-chat-hf - will assume that the vocabulary was not modified.\n",
      "  warnings.warn(\n"
     ]
    }
   ],
   "source": [
    "# Load tokenizer and model with QLoRA configuration\n",
    "compute_dtype = getattr(torch, bnb_4bit_compute_dtype)\n",
    "\n",
    "bnb_config = BitsAndBytesConfig(\n",
    "    load_in_4bit=use_4bit,\n",
    "    bnb_4bit_quant_type=bnb_4bit_quant_type,\n",
    "    bnb_4bit_compute_dtype=compute_dtype,\n",
    "    bnb_4bit_use_double_quant=use_nested_quant,\n",
    ")\n",
    "\n",
    "# Check GPU compatibility with bfloat16\n",
    "if compute_dtype == torch.float16 and use_4bit:\n",
    "    major, _ = torch.cuda.get_device_capability()\n",
    "    if major >= 8:\n",
    "        print(\"=\" * 80)\n",
    "        print(\"Your GPU supports bfloat16: accelerate training with bf16=True\")\n",
    "        print(\"=\" * 80)\n",
    "\n",
    "# Load base model\n",
    "model = AutoModelForCausalLM.from_pretrained(\n",
    "    model_name,\n",
    "    quantization_config=bnb_config,\n",
    "    device_map=device_map\n",
    ")\n",
    "\n",
    "model.config.use_cache = False\n",
    "model.config.pretraining_tp = 1\n",
    "\n",
    "# Load LLaMA tokenizer\n",
    "tokenizer = AutoTokenizer.from_pretrained(model_name, trust_remote_code=True)\n",
    "tokenizer.pad_token = tokenizer.eos_token\n",
    "tokenizer.padding_side = \"right\" # Fix weird overflow issue with fp16 training\n",
    "\n",
    "# Load LoRA configuration\n",
    "peft_config = LoraConfig(\n",
    "    lora_alpha=lora_alpha,\n",
    "    lora_dropout=lora_dropout,\n",
    "    r=lora_r,\n",
    "    bias=\"none\",\n",
    "    task_type=\"CAUSAL_LM\",\n",
    ")\n",
    "\n",
    "# Set training parameters\n",
    "training_arguments = TrainingArguments(\n",
    "    output_dir=output_dir,\n",
    "    num_train_epochs=num_train_epochs,\n",
    "    per_device_train_batch_size=per_device_train_batch_size,\n",
    "    gradient_accumulation_steps=gradient_accumulation_steps,\n",
    "    optim=optim,\n",
    "    save_steps=save_steps,\n",
    "    logging_steps=logging_steps,\n",
    "    learning_rate=learning_rate,\n",
    "    weight_decay=weight_decay,\n",
    "    fp16=fp16,\n",
    "    bf16=bf16,\n",
    "    max_grad_norm=max_grad_norm,\n",
    "    max_steps=max_steps,\n",
    "    warmup_ratio=warmup_ratio,\n",
    "    group_by_length=group_by_length,\n",
    "    lr_scheduler_type=lr_scheduler_type,\n",
    ")\n",
    "\n",
    "# Set supervised fine-tuning parameters\n",
    "trainer = SFTTrainer(\n",
    "    model=model,\n",
    "    train_dataset=dataset_llama,\n",
    "    peft_config=peft_config,\n",
    "    dataset_text_field=\"text\",\n",
    "    max_seq_length=max_seq_length,\n",
    "    tokenizer=tokenizer,\n",
    "    args=training_arguments,\n",
    "    packing=packing,\n",
    ")\n",
    "\n",
    "# Train model\n",
    "trainer.train()\n",
    "\n",
    "# Save trained model\n",
    "trainer.model.save_pretrained(new_model)"
   ]
  },
  {
   "cell_type": "code",
   "execution_count": null,
   "id": "0e0bcd99-aaef-44ce-ac9d-5dc1cceb010b",
   "metadata": {},
   "outputs": [],
   "source": [
    "!conda install tensorboardX"
   ]
  },
  {
   "cell_type": "code",
   "execution_count": 10,
   "id": "d3e007ca-a38b-42d8-a03a-1f87ce8eeaad",
   "metadata": {},
   "outputs": [
    {
     "name": "stdout",
     "output_type": "stream",
     "text": [
      "LICENSE        chatbot.py\tfinetune.ipynb\t    llama-2-7b-sql\n",
      "README.assets  chatbot_app.py\tinference.ipynb     models\n",
      "README.md      config.yaml\tinference_local.py  rag_chatbot.py\n",
      "__pycache__    environment.yml\tlangchain.ipynb     results\n"
     ]
    },
    {
     "name": "stderr",
     "output_type": "stream",
     "text": [
      "huggingface/tokenizers: The current process just got forked, after parallelism has already been used. Disabling parallelism to avoid deadlocks...\n",
      "To disable this warning, you can either:\n",
      "\t- Avoid using `tokenizers` before the fork if possible\n",
      "\t- Explicitly set the environment variable TOKENIZERS_PARALLELISM=(true | false)\n"
     ]
    }
   ],
   "source": [
    "!ls"
   ]
  },
  {
   "cell_type": "code",
   "execution_count": 11,
   "id": "f66bcd0b-9121-486d-85c2-eca0240991c8",
   "metadata": {},
   "outputs": [
    {
     "data": {
      "application/vnd.jupyter.widget-view+json": {
       "model_id": "6829b773ce984260a0df65d49e11b55f",
       "version_major": 2,
       "version_minor": 0
      },
      "text/plain": [
       "Loading checkpoint shards:   0%|          | 0/2 [00:00<?, ?it/s]"
      ]
     },
     "metadata": {},
     "output_type": "display_data"
    }
   ],
   "source": [
    "# Reload model in FP16 and merge it with LoRA weights\n",
    "base_model = AutoModelForCausalLM.from_pretrained(\n",
    "    model_name,\n",
    "    low_cpu_mem_usage=True,\n",
    "    return_dict=True,\n",
    "    torch_dtype=torch.float16,\n",
    "    device_map=device_map,\n",
    ")\n",
    "model = PeftModel.from_pretrained(base_model, new_model)\n",
    "model = model.merge_and_unload()\n",
    "\n",
    "# Reload tokenizer to save it\n",
    "tokenizer = AutoTokenizer.from_pretrained(model_name, trust_remote_code=True)\n",
    "tokenizer.pad_token = tokenizer.eos_token\n",
    "tokenizer.padding_side = \"right\""
   ]
  },
  {
   "cell_type": "code",
   "execution_count": 14,
   "id": "e29422c1-24ab-4182-be67-240e66aa5f54",
   "metadata": {},
   "outputs": [
    {
     "name": "stdout",
     "output_type": "stream",
     "text": [
      "Using device: cuda\n",
      " [INST] Create table If Not Exists Employee (id int, name varchar(255), salary int, departmentId int) Create table If Not Exists Department (id int, name varchar(255)) A company's executives are interested in seeing who earns the most money in each of the company's departments. A high earner in a department is an employee who has a salary in the top three unique salaries for that department.\n",
      "Write a solution to find the employees who are high earners in each of the departments.\n",
      "Return the result table in any order.\n",
      "The result format is in the following example. [/INST]\n",
      "To find the high earners in each department, we need to first create the two tables `Employee` and `Department`, and then write a query to join these tables and identify the employees who are high earners in each department.\n",
      "\n",
      "Here is the SQL code to create the `Employee` and `Department` tables:\n",
      "```sql\n",
      "CREATE TABLE Employee (\n",
      "  id INT,\n",
      "  name VARCHAR(255),\n",
      "  salary INT\n",
      ");\n",
      "\n",
      "CREATE TABLE Department (\n",
      "  id INT,\n",
      "  name VARCHAR(255)\n",
      ");\n",
      "```\n",
      "Now, let's write the query to find the high earners in each department:\n",
      "```sql\n",
      "SELECT e.id, e.name, d.name AS department_name, e.salary\n",
      "FROM Employee e\n",
      "JOIN Department d ON e.departmentId = d.id\n",
      "WHERE e.salary IN (SELECT MAX(salary) FROM Employee WHERE departmentId = d.id);\n",
      "```\n",
      "Explanation of the query:\n",
      "\n",
      "1. `SELECT e.id, e.name, d.name AS department_name, e.salary`: We select the columns `id`, `name`, `department_name`, and `salary` from the `Employee` table.\n",
      "2. `FROM Employee e`: We filter the employees based on the `id` column.\n",
      "3. `JOIN Department d ON e.departmentId = d.id`: We join the `Employee` table with the `Department` table based on the `departmentId` column.\n",
      "4. `WHERE e.salary IN (SELECT MAX(salary) FROM Employee WHERE departmentId = d.id)`: We filter the employees based on their salary. We select the maximum salary for each department using a subquery, and then filter the employees whose salary is in the top three unique salaries for that department.\n",
      "\n",
      "The result of the query will be a table with the following columns:\n",
      "\n",
      "* `id`: The unique identifier for each employee.\n",
      "* `name`: The name of each employee.\n",
      "* `department_name`: The name of the department where each employee works.\n",
      "* `salary`: The salary of each employee.\n",
      "\n",
      "Here is an example result for the given query:\n",
      "```sql\n",
      "+----+--------+----------+--------\n",
      "| id | name | department_name | salary |\n",
      "+----+--------+----------+--------\n",
      "| 1  | John  | Sales        | 80000 |\n",
      "| 2  | Jane  | Sales        | 70000 |\n",
      "| 3  | Joe   | Marketing    | 60000 |\n",
      "| 4  | Sarah | Sales        | 75000 |\n",
      "| 5  | David | Marketing    | 85000 |\n",
      "+----+--------+----------+--------\n",
      "```\n",
      "In this example, John, Jane, and Sarah are high earners in the `Sales` department, and David is a high earner in the `Marketing` department.\n"
     ]
    }
   ],
   "source": [
    "device = torch.device(\"cuda\" if torch.cuda.is_available() else \"cpu\")\n",
    "print(f'Using device: {device}')\n",
    "prompt = \"\"\" [INST] Create table If Not Exists Employee (id int, name varchar(255), salary int, departmentId int) Create table If Not Exists Department (id int, name varchar(255)) A company's executives are interested in seeing who earns the most money in each of the company's departments. A high earner in a department is an employee who has a salary in the top three unique salaries for that department.\n",
    "Write a solution to find the employees who are high earners in each of the departments.\n",
    "Return the result table in any order.\n",
    "The result format is in the following example. [/INST]\n",
    "\"\"\"\n",
    "\n",
    "model_inputs = tokenizer(prompt, return_tensors=\"pt\").to(device)\n",
    "output = model.generate(**model_inputs)\n",
    "print(tokenizer.decode(output[0], skip_special_tokens=True))"
   ]
  },
  {
   "cell_type": "code",
   "execution_count": null,
   "id": "0d7425ac-6bbb-47ea-82b1-7d1c0778e9b0",
   "metadata": {},
   "outputs": [],
   "source": []
  }
 ],
 "metadata": {
  "kernelspec": {
   "display_name": "Python 3 (ipykernel)",
   "language": "python",
   "name": "python3"
  },
  "language_info": {
   "codemirror_mode": {
    "name": "ipython",
    "version": 3
   },
   "file_extension": ".py",
   "mimetype": "text/x-python",
   "name": "python",
   "nbconvert_exporter": "python",
   "pygments_lexer": "ipython3",
   "version": "3.10.14"
  }
 },
 "nbformat": 4,
 "nbformat_minor": 5
}
