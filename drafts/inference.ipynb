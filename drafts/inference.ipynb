{
 "cells": [
  {
   "cell_type": "code",
   "execution_count": 3,
   "id": "b5d1374e-d9bd-41c7-b7cf-2eb57393ffae",
   "metadata": {},
   "outputs": [
    {
     "name": "stdout",
     "output_type": "stream",
     "text": [
      "Sun Mar 31 01:55:00 2024       \n",
      "+---------------------------------------------------------------------------------------+\n",
      "| NVIDIA-SMI 545.23.08              Driver Version: 545.23.08    CUDA Version: 12.3     |\n",
      "|-----------------------------------------+----------------------+----------------------+\n",
      "| GPU  Name                 Persistence-M | Bus-Id        Disp.A | Volatile Uncorr. ECC |\n",
      "| Fan  Temp   Perf          Pwr:Usage/Cap |         Memory-Usage | GPU-Util  Compute M. |\n",
      "|                                         |                      |               MIG M. |\n",
      "|=========================================+======================+======================|\n",
      "|   0  NVIDIA RTX A5000               On  | 00000000:31:00.0 Off |                  Off |\n",
      "| 30%   26C    P0              75W / 230W |      2MiB / 24564MiB |      0%      Default |\n",
      "|                                         |                      |                  N/A |\n",
      "+-----------------------------------------+----------------------+----------------------+\n",
      "|   1  NVIDIA RTX A5000               On  | 00000000:CA:00.0 Off |                  Off |\n",
      "| 30%   28C    P0              77W / 230W |      2MiB / 24564MiB |      0%      Default |\n",
      "|                                         |                      |                  N/A |\n",
      "+-----------------------------------------+----------------------+----------------------+\n",
      "                                                                                         \n",
      "+---------------------------------------------------------------------------------------+\n",
      "| Processes:                                                                            |\n",
      "|  GPU   GI   CI        PID   Type   Process name                            GPU Memory |\n",
      "|        ID   ID                                                             Usage      |\n",
      "|=======================================================================================|\n",
      "|  No running processes found                                                           |\n",
      "+---------------------------------------------------------------------------------------+\n"
     ]
    }
   ],
   "source": [
    "!nvidia-smi"
   ]
  },
  {
   "cell_type": "code",
   "execution_count": 4,
   "id": "ab7cc16e-506f-446d-9c65-624820f390f1",
   "metadata": {},
   "outputs": [
    {
     "name": "stdout",
     "output_type": "stream",
     "text": [
      "Using device: cuda\n"
     ]
    }
   ],
   "source": [
    "from transformers import AutoModelForCausalLM, AutoTokenizer, AutoConfig\n",
    "import torch\n",
    "\n",
    "# TODO: Replace model path with your own\n",
    "# The path should look like `models--<organization>--<model-name>/snapshots/<snapshot-id>` under the cache directory defined when downloading the model\n",
    "model_path = \"/home/sds262_kg797/palmer_scratch/Llama-2-7b-chat-hf/models--meta-llama--Llama-2-7b-chat-hf/snapshots/92011f62d7604e261f748ec0cfe6329f31193e33\"\n",
    "\n",
    "device = torch.device(\"cuda\" if torch.cuda.is_available() else \"cpu\")\n",
    "print(f'Using device: {device}')"
   ]
  },
  {
   "cell_type": "code",
   "execution_count": 5,
   "id": "0a1ad282-1ced-48da-a72e-fa112c77fd5a",
   "metadata": {},
   "outputs": [
    {
     "data": {
      "application/vnd.jupyter.widget-view+json": {
       "model_id": "0d998520adda4cd28264bb328690246c",
       "version_major": 2,
       "version_minor": 0
      },
      "text/plain": [
       "Loading checkpoint shards:   0%|          | 0/2 [00:00<?, ?it/s]"
      ]
     },
     "metadata": {},
     "output_type": "display_data"
    }
   ],
   "source": [
    "model = AutoModelForCausalLM.from_pretrained(model_path, device_map=\"auto\")\n",
    "tokenizer = AutoTokenizer.from_pretrained(model_path, use_fast=True)"
   ]
  },
  {
   "cell_type": "code",
   "execution_count": 12,
   "id": "4bfcbae3-548b-4c04-ba2e-848cf5596e9d",
   "metadata": {},
   "outputs": [
    {
     "name": "stdout",
     "output_type": "stream",
     "text": [
      "Tell me about Yale University\n",
      "\n",
      "Yale University is a private Ivy League research university located in New Haven, Connecticut. Founded in 1701, Yale is one of the oldest institutions of higher learning in the United States. Yale is known for its academic excellence, cultural influence, and rich history.\n",
      "\n",
      "Academics: Yale offers undergraduate and graduate programs in a wide range of fields, including the arts, humanities, social sciences, natural sciences, mathematics, engineering, and professional fields such as law, medicine, and business. Yale is particularly renowned for its programs in the arts and humanities, with a faculty that includes many Nobel laureates and Pulitzer Prize winners.\n",
      "\n",
      "Research: Yale is a major research university, with a strong focus on interdisciplinary research and collaboration. Yale has a long tradition of innovation and entrepreneurship, and has produced many groundbreaking discoveries and inventions.\n",
      "\n",
      "Campus: Yale's campus is known for its historic architecture, with many buildings dating back to the 18th and 19th centuries. The campus is located in the heart of New Haven, with easy access to nearby cities such as New York City and Boston.\n",
      "\n",
      "Student Life: Yale has a diverse and vibrant student body, with a wide range of extracurricular activities and organizations. Yale is known for its strong sense of community, with many opportunities for student involvement and leadership.\n",
      "\n",
      "Notable Alumni: Yale has produced many notable alumni, including 5 U.S. presidents, 17 U.S. Supreme Court justices, and countless leaders in business, politics, and culture.\n",
      "\n",
      "Yale has a long and storied history, with a legacy of academic excellence and cultural influence. Yale is a place where students can explore their passions, develop their talents, and prepare for a life of leadership and service.\n",
      "CPU times: user 18.7 s, sys: 47 ms, total: 18.8 s\n",
      "Wall time: 18.9 s\n"
     ]
    }
   ],
   "source": [
    "%%time\n",
    "prompt = \"Tell me about Yale\"\n",
    "\n",
    "model_inputs = tokenizer(prompt, return_tensors=\"pt\").to(device)\n",
    "output = model.generate(**model_inputs)\n",
    "print(tokenizer.decode(output[0], skip_special_tokens=True))"
   ]
  },
  {
   "cell_type": "code",
   "execution_count": 13,
   "id": "6f2eca61-f3d4-452b-b249-7078f95cf050",
   "metadata": {},
   "outputs": [
    {
     "name": "stdout",
     "output_type": "stream",
     "text": [
      "tensor([[    1, 24948,   592,  1048,   612,   744,  3014,    13,    13, 29979,\n",
      "           744,  3014,   338,   263,  2024,   306, 13308,  5165,  5925, 16372,\n",
      "          5982,   297,  1570,   379,  3496, 29892, 27230, 29889,   383,  7261,\n",
      "           297, 29871, 29896, 29955, 29900, 29896, 29892,   612,   744,   338,\n",
      "           697,   310,   278, 23947, 21561,   310,  6133,  6509,   297,   278,\n",
      "          3303,  3900, 29889,   612,   744,   338,  2998,   363,   967, 21567,\n",
      "         12567,   663, 29892, 16375,  9949, 29892,   322,  8261,  4955, 29889,\n",
      "            13,    13, 29909,  9431,  1199, 29901,   612,   744, 16688,  1090,\n",
      "          5105, 27240,   322, 10591,   403, 11104,   297,   263,  9377,  3464,\n",
      "           310,  4235, 29892,  3704,   278, 16930, 29892,  5199,  1907, 29892,\n",
      "          5264, 21195, 29892,  5613, 21195, 29892, 23964, 29892, 21639, 29892,\n",
      "           322, 10257,  4235,  1316,   408,  4307, 29892, 26602, 29892,   322,\n",
      "          5381, 29889,   612,   744,   338, 10734,  4325, 26689,   363,   967,\n",
      "         11104,   297,   278, 16930,   322,  5199,  1907, 29892,   411,   263,\n",
      "          4024, 18857,   393,  7805,  1784, 27813,   425,   545,  1078,   322,\n",
      "         27477, 13510, 20604,   281, 16697, 29889,    13,    13,  1666,  2842,\n",
      "         29901,   612,   744,   338,   263,  4655,  5925, 16372, 29892,   411,\n",
      "           263,  4549,  8569,   373,  1006,  2218, 13326,  3821,  5925,   322,\n",
      "         24771, 29889,   612,   744,   756,   263,  1472, 11399,   310, 24233,\n",
      "           362,   322, 23440,  1600,   332,  3527, 29892,   322,   756,  7371,\n",
      "          1784,  5962,  1030,  5086,  6523,   583,   322, 11817,  1080, 29889,\n",
      "            13,    13, 29907,  1160,   375, 29901,   612,   744, 29915, 29879,\n",
      "         24165,   338,  2998,   363,   967, 22879, 11258, 29892,   411,  1784,\n",
      "         13814,   270,  1218,  1250,   304,   278, 29871, 29896, 29947,   386,\n",
      "           322, 29871, 29896, 29929,   386, 21726, 29889,   450, 24165,   338,\n",
      "          5982,   297,   278,  5192,   310,  1570,   379,  3496, 29892,   411,\n",
      "          4780,  2130,   304, 20810, 14368,  1316,   408,  1570,  3088,  4412,\n",
      "           322, 12115, 29889,    13,    13, 20791,  4634, 29901,   612,   744,\n",
      "           756,   263, 16984,   322,   325,  4626,   424,  8368,  3573, 29892,\n",
      "           411,   263,  9377,  3464,   310,  1294,   945,  1038, 16311, 14188,\n",
      "           322, 25700, 29889,   612,   744,   338,  2998,   363,   967,  4549,\n",
      "          4060,   310,  7881, 29892,   411,  1784, 28602,  1907,   363,  8368,\n",
      "          5297, 29841,   322, 26001, 29889,    13,    13,  3664,   519,   838,\n",
      "          1227, 29875, 29901,   612,   744,   756,  7371,  1784, 18697,   394,\n",
      "          1227, 29875, 29892,  3704, 29871, 29945,   501, 29889, 29903, 29889,\n",
      "          2225, 16719, 29892, 29871, 29896, 29955,   501, 29889, 29903, 29889,\n",
      "         22569,  9245,   925,  1575, 29892,   322,  2302,  2222, 20251,   297,\n",
      "          5381, 29892, 22661, 29892,   322,  9257, 29889,    13,    13, 29979,\n",
      "           744,   756,   263,  1472,   322,  2840,  1000,  4955, 29892,   411,\n",
      "           263, 25000,   310, 21567, 12567,   663,   322, 16375,  9949, 29889,\n",
      "           612,   744,   338,   263,  2058,   988,  8041,   508, 26987,  1009,\n",
      "          1209,  1080, 29892,  2693,  1009,  5969,  1237, 29892,   322, 19012,\n",
      "           363,   263,  2834,   310, 26001,   322,  2669, 29889,     2]],\n",
      "       device='cuda:0')\n"
     ]
    }
   ],
   "source": [
    "print(output)"
   ]
  },
  {
   "cell_type": "code",
   "execution_count": 11,
   "id": "0278867d-350f-405d-8eda-faeacd077293",
   "metadata": {},
   "outputs": [
    {
     "name": "stdout",
     "output_type": "stream",
     "text": [
      "Tell me about Yale University\n",
      "\n",
      "Yale University is a private Ivy League research university located in New Haven, Connecticut, United States. Founded in 1701, Yale is one of the oldest institutions of higher learning in the United States. Yale is known for its academic excellence, cultural influence, and historic prestige. Here are some key facts about Yale University:\n",
      "\n",
      "1. History: Yale was founded in 1701 by a group of Congregationalist ministers who wanted to establish a school that would provide a liberal arts education to young men. Over the years, Yale has grown and evolved, becoming one of the most prestigious universities in the world.\n",
      "2. Academics: Yale offers a wide range of undergraduate and graduate programs in the arts, humanities, social sciences, natural sciences, and engineering. The university is known for its rigorous academic standards, and its faculty includes many Nobel laureates, Pulitzer Prize winners, and other distinguished scholars.\n",
      "3. Student body: Yale has a diverse student body of around 7,000 undergraduate students and 2,000 graduate students. The university is known for its intellectual curiosity and academic achievement, with many students going on to become leaders in their fields.\n",
      "4. Campus: Yale's campus is located in New Haven, Connecticut, a city that is home to many cultural and historical attractions. The university's campus is known for its Gothic architecture, including the iconic Yale University Library, which is one of the largest libraries in the world.\n",
      "5. Traditions: Yale has many traditions and rituals, including the singing of \"The Yale School Song\" at university events, the annual Yale-Harvard football game, and the \"Yale Bicker\" system, which is a social tradition in which students are randomly paired and then try to convince their partner to join their social group.\n",
      "6. Alumni: Yale has a large and distinguished alumni network, with many notable alumni, including five U.S. presidents, 17 U.S. Supreme Court justices, and countless leaders in business, government, and the arts.\n",
      "7. Financial aid: Yale is committed to making higher education accessible to students from all backgrounds, and the university offers generous financial aid packages to help make it possible for students to attend.\n",
      "8. Research: Yale is a major research university, with a wide range of research centers and institutes, including the Yale University Medical School, the Yale School of Medicine, and the Yale School of Engineering and Applied Science.\n",
      "9. Athletics: Yale has a strong athletic program, with teams competing in the Ivy League conference. The university's football team is particularly famous, with a long history of success and a rivalry with Harvard University that dates back to 1875.\n",
      "10. Rankings: Yale is consistently ranked as one of the top universities in the world, with rankings from publications such as U.S. News & World Report, Forbes, and The Times Higher Education World University Rankings.\n",
      "\n",
      "Overall, Yale University is a world-class institution that offers a unique and enriching educational experience for its students. Its academic excellence, cultural influence, and historic prestige make it a truly exceptional place to study and learn.\n"
     ]
    }
   ],
   "source": [
    "print(tokenizer.decode(output[\"sequences\"][0], skip_special_tokens=True))"
   ]
  },
  {
   "cell_type": "code",
   "execution_count": null,
   "id": "16349aef-4296-49be-afea-9872842acfaf",
   "metadata": {},
   "outputs": [],
   "source": []
  }
 ],
 "metadata": {
  "kernelspec": {
   "display_name": "Python 3 (ipykernel)",
   "language": "python",
   "name": "python3"
  },
  "language_info": {
   "codemirror_mode": {
    "name": "ipython",
    "version": 3
   },
   "file_extension": ".py",
   "mimetype": "text/x-python",
   "name": "python",
   "nbconvert_exporter": "python",
   "pygments_lexer": "ipython3",
   "version": "3.10.14"
  }
 },
 "nbformat": 4,
 "nbformat_minor": 5
}
